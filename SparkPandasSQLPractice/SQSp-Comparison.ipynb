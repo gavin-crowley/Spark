{
 "cells": [
  {
   "cell_type": "code",
   "execution_count": null,
   "metadata": {},
   "outputs": [],
   "source": [
    "#1 ID 10072\n",
    "# select distinct(neighbourhood) \n",
    "# from airbnb_search_details\n",
    "# where city = 'LA'\n",
    "# ;"
   ]
  },
  {
   "cell_type": "code",
   "execution_count": null,
   "metadata": {},
   "outputs": [],
   "source": [
    "# import pyspark.sql.functions as F\n",
    "# result = airbnb_search_details.filter(F.col('city') == 'LA').dropDuplicates(['neighbourhood']) / \n",
    "# .select('neighbourhood').toPandas()"
   ]
  },
  {
   "cell_type": "code",
   "execution_count": null,
   "metadata": {},
   "outputs": [],
   "source": [
    "#2 ID 9618\n",
    "# SELECT \n",
    "#     DISTINCT neighbourhood\n",
    "# FROM airbnb_search_details\n",
    "# WHERE \n",
    "#     amenities ILIKE '%parking%' AND\n",
    "#     cleaning_fee is FALSE"
   ]
  },
  {
   "cell_type": "code",
   "execution_count": null,
   "metadata": {},
   "outputs": [],
   "source": [
    "# import pyspark.sql.functions as F\n",
    "\n",
    "# no_fees = airbnb_search_details.filter((F.col('cleaning_fee') == False) & /\n",
    "#                                        (F.col('amenities').contains(\"parking\")))\n",
    "# result = no_fees.select('neighbourhood').distinct()\n",
    "# result.toPandas()"
   ]
  }
 ],
 "metadata": {
  "language_info": {
   "name": "python"
  }
 },
 "nbformat": 4,
 "nbformat_minor": 2
}
