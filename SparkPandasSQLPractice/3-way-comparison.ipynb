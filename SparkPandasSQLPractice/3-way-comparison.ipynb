{
 "cells": [
  {
   "cell_type": "code",
   "execution_count": null,
   "metadata": {},
   "outputs": [],
   "source": [
    "#1 ID 9618\n",
    "# SELECT \n",
    "#     DISTINCT neighbourhood\n",
    "# FROM airbnb_search_details\n",
    "# WHERE\n",
    "#     city = 'LA'"
   ]
  },
  {
   "cell_type": "code",
   "execution_count": null,
   "metadata": {},
   "outputs": [],
   "source": [
    "\n",
    "# result = airbnb_search_details[airbnb_search_details['city'] =='LA'] /\n",
    "# .drop_duplicates(['neighbourhood'])[['neighbourhood']]\n"
   ]
  },
  {
   "cell_type": "code",
   "execution_count": null,
   "metadata": {},
   "outputs": [],
   "source": [
    "# import pyspark.sql.functions as F\n",
    "# result = airbnb_search_details.filter(F.col('city') == 'LA').dropDuplicates(['neighbourhood']) /\n",
    "# .select('neighbourhood').toPandas()"
   ]
  },
  {
   "cell_type": "code",
   "execution_count": null,
   "metadata": {},
   "outputs": [],
   "source": [
    "#-----------"
   ]
  },
  {
   "cell_type": "code",
   "execution_count": null,
   "metadata": {},
   "outputs": [],
   "source": [
    "# 2 ID 9867\n",
    "# SELECT DISTINCT salary \n",
    "# FROM worker\n",
    "# ORDER BY salary ASC\n",
    "# LIMIT 3"
   ]
  },
  {
   "cell_type": "code",
   "execution_count": null,
   "metadata": {},
   "outputs": [],
   "source": [
    "# salaries = worker[['salary']].drop_duplicates()\n",
    "# result = salaries.nsmallest(3,'salary')[['salary']]"
   ]
  },
  {
   "cell_type": "code",
   "execution_count": null,
   "metadata": {},
   "outputs": [],
   "source": [
    "# salaries = worker.select('salary').distinct()\n",
    "# result = salaries.orderBy('salary').limit(3).toPandas()\n",
    "# result"
   ]
  }
 ],
 "metadata": {
  "language_info": {
   "name": "python"
  }
 },
 "nbformat": 4,
 "nbformat_minor": 2
}
